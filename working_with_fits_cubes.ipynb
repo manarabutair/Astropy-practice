{
  "nbformat": 4,
  "nbformat_minor": 0,
  "metadata": {
    "colab": {
      "provenance": []
    },
    "kernelspec": {
      "name": "python3",
      "display_name": "Python 3"
    },
    "language_info": {
      "name": "python"
    }
  },
  "cells": [
    {
      "cell_type": "code",
      "source": [
        "pip install spectral-cube\n"
      ],
      "metadata": {
        "id": "CgOPqOeVi7KK"
      },
      "execution_count": null,
      "outputs": []
    },
    {
      "cell_type": "code",
      "source": [
        "pip install astroquery"
      ],
      "metadata": {
        "id": "QU2pjVFijHbX"
      },
      "execution_count": null,
      "outputs": []
    },
    {
      "cell_type": "code",
      "source": [
        "pip install reproject"
      ],
      "metadata": {
        "id": "C7gE6XVBjO_e"
      },
      "execution_count": null,
      "outputs": []
    },
    {
      "cell_type": "code",
      "execution_count": 8,
      "metadata": {
        "id": "4X_1H9Yjilra"
      },
      "outputs": [],
      "source": [
        "import numpy as np\n",
        "import matplotlib.pyplot as plt\n",
        "from matplotlib.colors import LogNorm\n",
        "\n",
        "import astropy.units as u\n",
        "from astropy.utils.data import download_file\n",
        "from astropy.io import fits  # We use fits to open the actual data file\n",
        "\n",
        "from astropy.utils import data\n",
        "data.conf.remote_timeout = 60\n",
        "\n",
        "from spectral_cube import SpectralCube\n",
        "\n",
        "from astroquery.esasky import ESASky\n",
        "from astroquery.utils import TableList\n",
        "from astropy.wcs import WCS\n",
        "from reproject import reproject_interp"
      ]
    },
    {
      "cell_type": "code",
      "source": [
        "# Downloads the HI data in a fits file format\n",
        "hi_datafile = download_file(\n",
        "    'http://data.astropy.org/tutorials/FITS-cubes/reduced_TAN_C14.fits',\n",
        "    cache=True, show_progress=True)"
      ],
      "metadata": {
        "id": "C1yKVPXfkHJB"
      },
      "execution_count": 9,
      "outputs": []
    },
    {
      "cell_type": "code",
      "source": [
        "print(cube)"
      ],
      "metadata": {
        "id": "Xo7AtGm-tFDN"
      },
      "execution_count": null,
      "outputs": []
    },
    {
      "cell_type": "code",
      "source": [
        "cube[300, :, :].quicklook()  # Slice the cube along the spectral axis, and display a quick image"
      ],
      "metadata": {
        "id": "3be1iUdAtIlY"
      },
      "execution_count": null,
      "outputs": []
    },
    {
      "cell_type": "code",
      "source": [
        "cube[:, 75, 75].quicklook()  # Extract a single spectrum through the data cube"
      ],
      "metadata": {
        "id": "gVB6UmbytRmb"
      },
      "execution_count": null,
      "outputs": []
    },
    {
      "cell_type": "markdown",
      "source": [
        "Try messing around with slicing the cube along different axes, or picking out different spectra"
      ],
      "metadata": {
        "id": "5twPwkOrta8E"
      }
    },
    {
      "cell_type": "code",
      "source": [],
      "metadata": {
        "id": "kvAug32Ftj-I"
      },
      "execution_count": null,
      "outputs": []
    }
  ]
}